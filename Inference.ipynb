{
 "cells": [
  {
   "cell_type": "code",
   "execution_count": 22,
   "metadata": {},
   "outputs": [],
   "source": []
  },
  {
   "cell_type": "code",
   "execution_count": 8,
   "metadata": {},
   "outputs": [
    {
     "name": "stdout",
     "output_type": "stream",
     "text": [
      "Use load_from_local loader\n",
      "Elapsed time:0.07240533828735352\n",
      "complete\n"
     ]
    }
   ],
   "source": [
    "from mmdet3d.apis import init_detector, inference_detector, show_result_meshlab\n",
    "import time\n",
    "config_file = 'configs/pointpillars/myhv_pointpillars_secfpn_6x8_160e_kitti-3d-car.py'\n",
    "checkpoint_file = 'mypointpillar_waymocar/latest.pth'\n",
    "\n",
    "# build the model from a config file and a checkpoint file\n",
    "model = init_detector(config_file, checkpoint_file, device='cuda:0')\n",
    "\n",
    "# test a single image and show the results\n",
    "point_cloud = '/data/cmpe249-fa21/4c_train5678/training/velodyne/000170.bin'\n",
    "start_time=time.time()\n",
    "result, data = inference_detector(model, point_cloud)\n",
    "end_time=time.time()\n",
    "print(\"Elapsed time:{0}\".format(end_time-start_time))\n",
    "\n",
    "# visualize the results and save the results in 'results' folder\n",
    "show_result_meshlab(data, result, out_dir='results')\n",
    "print(\"complete\")"
   ]
  },
  {
   "cell_type": "code",
   "execution_count": 7,
   "metadata": {},
   "outputs": [
    {
     "name": "stdout",
     "output_type": "stream",
     "text": [
      "Init Kitti Dataset:, self.root_split: /data/cmpe249-fa21/4c_train5678/training\n",
      "Kitti Classes:: ['Car']\n",
      "Use load_from_local loader\n",
      "Done image [50 / 2000], fps: 14.1 img / s\n",
      "Done image [100/ 2000], fps: 13.4 img / s\n",
      "Done image [150/ 2000], fps: 12.9 img / s\n",
      "Done image [200/ 2000], fps: 13.7 img / s\n",
      "Done image [250/ 2000], fps: 13.5 img / s\n",
      "Done image [300/ 2000], fps: 13.3 img / s\n",
      "Done image [350/ 2000], fps: 13.4 img / s\n",
      "Done image [400/ 2000], fps: 13.1 img / s\n",
      "Done image [450/ 2000], fps: 12.9 img / s\n",
      "Done image [500/ 2000], fps: 12.9 img / s\n",
      "Done image [550/ 2000], fps: 12.9 img / s\n",
      "Done image [600/ 2000], fps: 12.9 img / s\n",
      "Done image [650/ 2000], fps: 13.0 img / s\n",
      "Done image [700/ 2000], fps: 13.0 img / s\n",
      "Done image [750/ 2000], fps: 13.1 img / s\n",
      "Done image [800/ 2000], fps: 13.2 img / s\n",
      "Done image [850/ 2000], fps: 13.3 img / s\n",
      "Done image [900/ 2000], fps: 13.3 img / s\n",
      "Done image [950/ 2000], fps: 13.4 img / s\n",
      "Done image [1000/ 2000], fps: 13.5 img / s\n",
      "Done image [1050/ 2000], fps: 13.5 img / s\n",
      "Done image [1100/ 2000], fps: 13.5 img / s\n",
      "Done image [1150/ 2000], fps: 13.5 img / s\n",
      "Done image [1200/ 2000], fps: 13.5 img / s\n",
      "Done image [1250/ 2000], fps: 13.6 img / s\n",
      "Done image [1300/ 2000], fps: 13.6 img / s\n",
      "Done image [1350/ 2000], fps: 13.6 img / s\n",
      "Done image [1400/ 2000], fps: 13.7 img / s\n",
      "Done image [1450/ 2000], fps: 13.8 img / s\n",
      "Done image [1500/ 2000], fps: 13.8 img / s\n",
      "Done image [1550/ 2000], fps: 13.8 img / s\n",
      "Done image [1600/ 2000], fps: 13.7 img / s\n",
      "Done image [1650/ 2000], fps: 13.7 img / s\n",
      "Done image [1700/ 2000], fps: 13.6 img / s\n",
      "Done image [1750/ 2000], fps: 13.6 img / s\n",
      "Done image [1800/ 2000], fps: 13.6 img / s\n",
      "Done image [1850/ 2000], fps: 13.6 img / s\n",
      "Done image [1900/ 2000], fps: 13.6 img / s\n",
      "Done image [1950/ 2000], fps: 13.6 img / s\n",
      "Done image [2000/ 2000], fps: 13.7 img / s\n",
      "Overall fps: 13.7 img / s\n"
     ]
    },
    {
     "name": "stderr",
     "output_type": "stream",
     "text": [
      "/home/014600742/venvpy37cu10/lib/python3.7/site-packages/jupyter_client/channels.py:15: VisibleDeprecationWarning: zmq.eventloop.minitornado is deprecated in pyzmq 14.0 and will be removed.\n",
      "    Install tornado itself to use zmq with the tornado IOLoop.\n",
      "    \n",
      "  from .session import Session\n"
     ]
    }
   ],
   "source": [
    " %%bash\n",
    ". ~/.bashrc\n",
    "python tools/benchmark.py configs/pointpillars/myhv_pointpillars_secfpn_6x8_160e_kitti-3d-car.py  ./mypointpillar_waymocar/latest.pth"
   ]
  },
  {
   "cell_type": "code",
   "execution_count": null,
   "metadata": {},
   "outputs": [],
   "source": []
  }
 ],
 "metadata": {
  "kernelspec": {
   "display_name": "venvpy37cu10",
   "language": "python",
   "name": "venvpy37cu10"
  },
  "language_info": {
   "codemirror_mode": {
    "name": "ipython",
    "version": 3
   },
   "file_extension": ".py",
   "mimetype": "text/x-python",
   "name": "python",
   "nbconvert_exporter": "python",
   "pygments_lexer": "ipython3",
   "version": "3.7.0"
  }
 },
 "nbformat": 4,
 "nbformat_minor": 4
}
